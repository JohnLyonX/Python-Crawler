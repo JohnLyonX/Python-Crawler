{
 "cells": [
  {
   "cell_type": "code",
   "execution_count": 37,
   "id": "initial_id",
   "metadata": {
    "collapsed": true,
    "ExecuteTime": {
     "end_time": "2023-12-20T02:47:24.548967Z",
     "start_time": "2023-12-20T02:47:24.516917Z"
    }
   },
   "outputs": [],
   "source": [
    "import threading  # 线程模块\n",
    "import time  # 时间模块"
   ]
  },
  {
   "cell_type": "code",
   "execution_count": 43,
   "outputs": [],
   "source": [
    "def foo(t):\n",
    "    print('执行foo')\n",
    "    time.sleep(t)  # 传入休眠的时间\n",
    "    print('结束执行foo')\n",
    "    \n",
    "def bar(t):\n",
    "    print('执行bar')\n",
    "    time.sleep(t)  # 传入休眠的时间\n",
    "    print('结束执行bar')\n",
    "    "
   ],
   "metadata": {
    "collapsed": false,
    "ExecuteTime": {
     "end_time": "2023-12-20T02:48:13.829202Z",
     "start_time": "2023-12-20T02:48:13.814597Z"
    }
   },
   "id": "9a0a3a3ac06fe38a"
  },
  {
   "cell_type": "code",
   "execution_count": 44,
   "outputs": [
    {
     "name": "stdout",
     "output_type": "stream",
     "text": [
      "执行foo\n",
      "执行bar\n"
     ]
    }
   ],
   "source": [
    "# 并发执行\n",
    "t1 = threading.Thread(target=foo, args=(2,))  # 传入休眠时间为2秒\n",
    "t1.start()\n",
    "\n",
    "t2 = threading.Thread(target=bar, args=(2,))\n",
    "t2.start()"
   ],
   "metadata": {
    "collapsed": false,
    "ExecuteTime": {
     "end_time": "2023-12-20T02:48:15.382327Z",
     "start_time": "2023-12-20T02:48:15.366043Z"
    }
   },
   "id": "808e93a7542e38fa"
  },
  {
   "cell_type": "code",
   "execution_count": null,
   "outputs": [],
   "source": [
    "t1.join() # 等待线程执行完毕再进行下一步"
   ],
   "metadata": {
    "collapsed": false
   },
   "id": "4c8a45704234598e"
  },
  {
   "cell_type": "code",
   "execution_count": 45,
   "outputs": [],
   "source": [
    "# 玩法: 定义并发函数\n",
    "def run_thread(x, y, p):\n",
    "    threading.Thread(target=x, args=(p,)).start()\n",
    "    threading.Thread(target=y, args=(p,)).start()"
   ],
   "metadata": {
    "collapsed": false,
    "ExecuteTime": {
     "end_time": "2023-12-20T02:48:22.136510Z",
     "start_time": "2023-12-20T02:48:22.125150Z"
    }
   },
   "id": "257220ceb5cbc7de"
  },
  {
   "cell_type": "code",
   "execution_count": 46,
   "outputs": [
    {
     "name": "stdout",
     "output_type": "stream",
     "text": [
      "执行foo执行bar\n"
     ]
    }
   ],
   "source": [
    "run_thread(foo, bar, 2)"
   ],
   "metadata": {
    "collapsed": false,
    "ExecuteTime": {
     "end_time": "2023-12-20T02:48:23.853992Z",
     "start_time": "2023-12-20T02:48:23.844176Z"
    }
   },
   "id": "9cb6e6bf72153119"
  },
  {
   "cell_type": "code",
   "execution_count": null,
   "outputs": [],
   "source": [],
   "metadata": {
    "collapsed": false
   },
   "id": "f91a534e30e006ac"
  }
 ],
 "metadata": {
  "kernelspec": {
   "display_name": "Python 3",
   "language": "python",
   "name": "python3"
  },
  "language_info": {
   "codemirror_mode": {
    "name": "ipython",
    "version": 2
   },
   "file_extension": ".py",
   "mimetype": "text/x-python",
   "name": "python",
   "nbconvert_exporter": "python",
   "pygments_lexer": "ipython2",
   "version": "2.7.6"
  }
 },
 "nbformat": 4,
 "nbformat_minor": 5
}
