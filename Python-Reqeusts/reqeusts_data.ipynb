{
 "cells": [
  {
   "cell_type": "code",
   "execution_count": 1,
   "id": "initial_id",
   "metadata": {
    "collapsed": true,
    "ExecuteTime": {
     "end_time": "2023-12-18T08:25:01.345932Z",
     "start_time": "2023-12-18T08:25:01.304266Z"
    }
   },
   "outputs": [],
   "source": [
    "import requests"
   ]
  },
  {
   "cell_type": "code",
   "execution_count": null,
   "outputs": [],
   "source": [
    "headers = {\n",
    "    'Origin': 'http://fiddle.jshell.net',\n",
    "    # 'Accept-Encoding': 'gzip, deflate',\n",
    "    'Accept-Language': 'en-US,en;q=0.8',\n",
    "    'User-Agent': 'Mozilla/5.0 (Macintosh; Intel Mac OS X 10_15_7) AppleWebKit/537.36 (KHTML, like Gecko) Chrome/120.0.0.0 Safari/537.36',\n",
    "    'Content-Type': 'application/x-www-form-urlencoded; charset=UTF-8',\n",
    "    'Accept': '*/*',\n",
    "    'Referer': 'http://fiddle.jshell.net/_display/',\n",
    "    'X-Requested-With': 'XMLHttpRequest',\n",
    "    'Connection': 'keep-alive',\n",
    "}\n",
    "\n",
    "res = requests.post('https://api.luffycity.com/api/v1/auth/password/login/?loginWay=password', headers=headers, data={ # Post 方法请求数据是使用data 而不是使用params在url后面拼接\n",
    "    'username': \"Your Username\",\n",
    "    'password': \"Your Password\"\n",
    "})\n",
    "\n"
   ],
   "metadata": {
    "collapsed": false
   },
   "id": "106a025221f54062"
  }
 ],
 "metadata": {
  "kernelspec": {
   "display_name": "Python 3",
   "language": "python",
   "name": "python3"
  },
  "language_info": {
   "codemirror_mode": {
    "name": "ipython",
    "version": 2
   },
   "file_extension": ".py",
   "mimetype": "text/x-python",
   "name": "python",
   "nbconvert_exporter": "python",
   "pygments_lexer": "ipython2",
   "version": "2.7.6"
  }
 },
 "nbformat": 4,
 "nbformat_minor": 5
}
