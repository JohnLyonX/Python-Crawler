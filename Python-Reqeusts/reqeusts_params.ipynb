{
 "cells": [
  {
   "cell_type": "code",
   "execution_count": 1,
   "id": "initial_id",
   "metadata": {
    "collapsed": true,
    "ExecuteTime": {
     "end_time": "2023-12-18T04:17:13.607640Z",
     "start_time": "2023-12-18T04:17:13.584686Z"
    }
   },
   "outputs": [],
   "source": [
    "import requests"
   ]
  },
  {
   "cell_type": "code",
   "execution_count": 9,
   "outputs": [
    {
     "name": "stdout",
     "output_type": "stream",
     "text": [
      "高分经典惊悚片榜\n",
      "名侦探柯南：黑铁的鱼影\n",
      "花月杀手\n",
      "断网假期\n",
      "釜山行\n",
      "看不见的客人\n",
      "无间道\n",
      "饥饿游戏：鸣鸟与蛇之歌\n",
      "蝙蝠侠：黑暗骑士\n",
      "小丑\n",
      "黑豹2\n",
      "禁闭岛\n",
      "沉默的羔羊\n",
      "调音师\n",
      "银河护卫队3\n",
      "恐怖游轮\n",
      "碟中谍7：致命清算（上）\n",
      "蝴蝶效应\n",
      "消失的爱人\n",
      "钢铁侠\n"
     ]
    }
   ],
   "source": [
    "# 查询“惊悚”电影的URL\n",
    "header = {\n",
    "    'User-Agent': 'Mozilla/5.0 (Windows NT 10.0; Win64; x64) \\\n",
    "        AppleWebKit/537.36 (KHTML, like Gecko) Chrome/80.0.3987.149 Safari/537.36',\n",
    "    'referer': 'https://movie.douban.com/explore'\n",
    "}\n",
    "url = 'https://m.douban.com/rexxar/api/v2/movie/recommend?refresh=0&start=0&count=20&selected_categories=%7B%22%E7%B1%BB%E5%9E%8B%22:%22%E6%83%8A%E6%82%9A%22%7D&uncollect=false&tags=%E6%83%8A%E6%82%9A'\n",
    "\n",
    "res = requests.get(url, headers=header).json()\n",
    "for i in res['items']:\n",
    "    print(i.get('title'))"
   ],
   "metadata": {
    "collapsed": false,
    "ExecuteTime": {
     "end_time": "2023-12-18T04:34:27.717677Z",
     "start_time": "2023-12-18T04:34:27.069476Z"
    }
   },
   "id": "776234b52c9d844c"
  },
  {
   "cell_type": "code",
   "execution_count": 10,
   "outputs": [
    {
     "name": "stdout",
     "output_type": "stream",
     "text": [
      "高分经典惊悚片榜\n",
      "名侦探柯南：黑铁的鱼影\n",
      "花月杀手\n",
      "断网假期\n",
      "釜山行\n",
      "看不见的客人\n",
      "无间道\n",
      "饥饿游戏：鸣鸟与蛇之歌\n",
      "蝙蝠侠：黑暗骑士\n",
      "小丑\n",
      "黑豹2\n",
      "禁闭岛\n",
      "沉默的羔羊\n",
      "调音师\n",
      "银河护卫队3\n",
      "恐怖游轮\n",
      "碟中谍7：致命清算（上）\n",
      "蝴蝶效应\n",
      "消失的爱人\n",
      "钢铁侠\n"
     ]
    }
   ],
   "source": [
    "# 自定义参数\n",
    "header = {\n",
    "    'User-Agent': 'Mozilla/5.0 (Windows NT 10.0; Win64; x64) \\\n",
    "        AppleWebKit/537.36 (KHTML, like Gecko) Chrome/80.0.3987.149 Safari/537.36',\n",
    "    'referer': 'https://movie.douban.com/explore'\n",
    "}\n",
    "url = 'https://m.douban.com/rexxar/api/v2/movie/recommend'\n",
    "\n",
    "res = requests.get(\n",
    "    url, \n",
    "    headers=header,\n",
    "    params={\n",
    "'refresh': 0,\n",
    "        'start': 0,\n",
    "        'count': 20,\n",
    "        'selected_categories': '{\"类型\":\"惊悚\"}',\n",
    "        'uncollect': False,\n",
    "        'tags': '惊悚'\n",
    "    }\n",
    ").json()\n",
    "for i in res['items']:\n",
    "    print(i.get('title'))"
   ],
   "metadata": {
    "collapsed": false,
    "ExecuteTime": {
     "end_time": "2023-12-18T04:36:24.742270Z",
     "start_time": "2023-12-18T04:36:24.006137Z"
    }
   },
   "id": "25f66ac60144b16"
  },
  {
   "cell_type": "code",
   "execution_count": null,
   "outputs": [],
   "source": [],
   "metadata": {
    "collapsed": false
   },
   "id": "53f5c54f1aaac8"
  }
 ],
 "metadata": {
  "kernelspec": {
   "display_name": "Python 3",
   "language": "python",
   "name": "python3"
  },
  "language_info": {
   "codemirror_mode": {
    "name": "ipython",
    "version": 2
   },
   "file_extension": ".py",
   "mimetype": "text/x-python",
   "name": "python",
   "nbconvert_exporter": "python",
   "pygments_lexer": "ipython2",
   "version": "2.7.6"
  }
 },
 "nbformat": 4,
 "nbformat_minor": 5
}
