{
 "cells": [
  {
   "cell_type": "code",
   "execution_count": 1,
   "id": "initial_id",
   "metadata": {
    "collapsed": true,
    "ExecuteTime": {
     "end_time": "2023-12-18T03:14:46.875658Z",
     "start_time": "2023-12-18T03:14:46.846771Z"
    }
   },
   "outputs": [],
   "source": [
    "import requests as rq"
   ]
  },
  {
   "cell_type": "markdown",
   "source": [
    "# method have: get、post、put、delete"
   ],
   "metadata": {
    "collapsed": false
   },
   "id": "1668a1af6ec0488c"
  },
  {
   "cell_type": "code",
   "execution_count": 8,
   "outputs": [],
   "source": [
    "# method get\n",
    "req = rq.get('http://www.lyonjohn.xyz') # return state code"
   ],
   "metadata": {
    "collapsed": false,
    "ExecuteTime": {
     "end_time": "2023-12-18T03:22:42.164156Z",
     "start_time": "2023-12-18T03:22:41.141054Z"
    }
   },
   "id": "beecaf060380744"
  },
  {
   "cell_type": "code",
   "execution_count": 9,
   "outputs": [
    {
     "data": {
      "text/plain": "200"
     },
     "execution_count": 9,
     "metadata": {},
     "output_type": "execute_result"
    }
   ],
   "source": [
    "req.status_code # can return state code"
   ],
   "metadata": {
    "collapsed": false,
    "ExecuteTime": {
     "end_time": "2023-12-18T03:22:44.134830Z",
     "start_time": "2023-12-18T03:22:44.129809Z"
    }
   },
   "id": "24270556c85d4246"
  },
  {
   "cell_type": "code",
   "execution_count": 11,
   "outputs": [
    {
     "data": {
      "text/plain": "{'Connection': 'close', 'Content-Length': '1014', 'Accept-Ranges': 'bytes', 'Content-Type': 'text/html', 'Date': 'Mon, 18 Dec 2023 03:22:42 GMT', 'Etag': 'W/\"1014-1702380660000\"', 'Last-Modified': 'Tue, 12 Dec 2023 11:31:00 GMT'}"
     },
     "execution_count": 11,
     "metadata": {},
     "output_type": "execute_result"
    }
   ],
   "source": [
    "req.headers # get request header"
   ],
   "metadata": {
    "collapsed": false,
    "ExecuteTime": {
     "end_time": "2023-12-18T03:23:10.355189Z",
     "start_time": "2023-12-18T03:23:10.351450Z"
    }
   },
   "id": "47b26bfa5d130aa0"
  },
  {
   "cell_type": "code",
   "execution_count": 12,
   "outputs": [
    {
     "data": {
      "text/plain": "'<!doctype html><html lang=\"en\" class=\"light\"><head><meta charset=\"utf-8\"><meta http-equiv=\"X-UA-Compatible\" content=\"IE=edge\"><meta name=\"viewport\" content=\"width=device-width,initial-scale=1\"><meta name=\"description\" content=\"æ¬¢è¿\\x8eæ\\x9d¥å\\x88°æ¢\\x81å±\\x95æ³¢ï¼\\x88ä¹\\x9fè¢«ç§°ä¸ºLyonJohnæ\\x88\\x96Po Johnï¼\\x89ç\\x9a\\x84ä¸ªäººå\\x8d\\x9aå®¢ã\\x80\\x82å\\x9c¨è¿\\x99é\\x87\\x8cï¼\\x8cä½\\xa0å\\x8f¯ä»¥æ\\x89¾å\\x88°å±\\x95æ³¢ç\\x9a\\x84æ\\x9c\\x80æ\\x96°æ\\x96\\x87ç«\\xa0å\\x92\\x8cé¡¹ç\\x9b®ã\\x80\\x82\"><meta name=\"keywords\" content=\"æ¢\\x81å±\\x95æ³¢,LyonJohn,PoJohn,å±\\x95æ³¢,æ¢\\x81å±\\x95æ³¢ç\\x9a\\x84å\\x8d\\x9aå®¢,å±\\x95æ³¢ç\\x9a\\x84å\\x8d\\x9aå®¢,LyonJohnBlog,PoJohnBlog\"><link rel=\"icon\" href=\"favicon.ico\"><link rel=\"stylesheet\" href=\"theme.css\"><title>lyonjohn</title><script defer=\"defer\" src=\"/js/chunk-vendors.657c9d04.js\"></script><script defer=\"defer\" src=\"/js/app.94b92eb9.js\"></script><link href=\"/css/chunk-vendors.2218d6ae.css\" rel=\"stylesheet\"><link href=\"/css/app.3dabbc13.css\" rel=\"stylesheet\"></head><body><noscript><strong>We\\'re sorry but lyonjohn doesn\\'t work properly without JavaScript enabled. Please enable it to continue.</strong></noscript><div id=\"app\"></div></body></html>'"
     },
     "execution_count": 12,
     "metadata": {},
     "output_type": "execute_result"
    }
   ],
   "source": [
    "req.text # get request body"
   ],
   "metadata": {
    "collapsed": false,
    "ExecuteTime": {
     "end_time": "2023-12-18T03:24:39.392426Z",
     "start_time": "2023-12-18T03:24:39.383782Z"
    }
   },
   "id": "2ea803675e5df6e3"
  },
  {
   "cell_type": "code",
   "execution_count": 13,
   "outputs": [],
   "source": [
    "with open('content.html','w') as f:\n",
    "    f.write(req.text)"
   ],
   "metadata": {
    "collapsed": false,
    "ExecuteTime": {
     "end_time": "2023-12-18T03:25:37.729187Z",
     "start_time": "2023-12-18T03:25:37.724669Z"
    }
   },
   "id": "c2f946e27c5ee578"
  }
 ],
 "metadata": {
  "kernelspec": {
   "display_name": "Python 3",
   "language": "python",
   "name": "python3"
  },
  "language_info": {
   "codemirror_mode": {
    "name": "ipython",
    "version": 2
   },
   "file_extension": ".py",
   "mimetype": "text/x-python",
   "name": "python",
   "nbconvert_exporter": "python",
   "pygments_lexer": "ipython2",
   "version": "2.7.6"
  }
 },
 "nbformat": 4,
 "nbformat_minor": 5
}
