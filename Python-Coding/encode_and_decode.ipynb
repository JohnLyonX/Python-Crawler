{
 "cells": [
  {
   "cell_type": "code",
   "execution_count": 2,
   "id": "initial_id",
   "metadata": {
    "collapsed": true,
    "ExecuteTime": {
     "end_time": "2023-12-18T02:30:14.589995Z",
     "start_time": "2023-12-18T02:30:14.584808Z"
    }
   },
   "outputs": [
    {
     "data": {
      "text/plain": "'Hey I am 展波'"
     },
     "execution_count": 2,
     "metadata": {},
     "output_type": "execute_result"
    }
   ],
   "source": [
    "str = 'Hey I am 展波'\n",
    "str"
   ]
  },
  {
   "cell_type": "markdown",
   "source": [
    "# This is text encode"
   ],
   "metadata": {
    "collapsed": false
   },
   "id": "5096798ce4ddd6d7"
  },
  {
   "cell_type": "code",
   "execution_count": 10,
   "outputs": [],
   "source": [
    "str_utf8 = str.encode('utf8')"
   ],
   "metadata": {
    "collapsed": false,
    "ExecuteTime": {
     "end_time": "2023-12-18T02:35:33.490508Z",
     "start_time": "2023-12-18T02:35:33.485377Z"
    }
   },
   "id": "6361cba514585d04"
  },
  {
   "cell_type": "code",
   "execution_count": 11,
   "outputs": [],
   "source": [
    "str_gbk = str.encode('gbk')"
   ],
   "metadata": {
    "collapsed": false,
    "ExecuteTime": {
     "end_time": "2023-12-18T02:35:36.325012Z",
     "start_time": "2023-12-18T02:35:36.318733Z"
    }
   },
   "id": "f3f2e821d22d0ba3"
  },
  {
   "cell_type": "markdown",
   "source": [
    "# This is text decode. (such as: if your text is 'utf8', so you decode need use 'utf8')"
   ],
   "metadata": {
    "collapsed": false
   },
   "id": "2e6e9b2b0392cfde"
  },
  {
   "cell_type": "code",
   "execution_count": 12,
   "outputs": [
    {
     "data": {
      "text/plain": "'Hey I am 展波'"
     },
     "execution_count": 12,
     "metadata": {},
     "output_type": "execute_result"
    }
   ],
   "source": [
    "str_utf8.decode('utf8')"
   ],
   "metadata": {
    "collapsed": false,
    "ExecuteTime": {
     "end_time": "2023-12-18T02:35:38.465312Z",
     "start_time": "2023-12-18T02:35:38.462057Z"
    }
   },
   "id": "2a00009a85b5478b"
  },
  {
   "cell_type": "code",
   "execution_count": 13,
   "outputs": [
    {
     "data": {
      "text/plain": "'Hey I am 展波'"
     },
     "execution_count": 13,
     "metadata": {},
     "output_type": "execute_result"
    }
   ],
   "source": [
    "str_gbk.decode('gbk')"
   ],
   "metadata": {
    "collapsed": false,
    "ExecuteTime": {
     "end_time": "2023-12-18T02:39:14.836149Z",
     "start_time": "2023-12-18T02:39:14.832585Z"
    }
   },
   "id": "3c192210eb03f996"
  },
  {
   "cell_type": "markdown",
   "source": [
    "# tips: If you don't use parameters, encoding and decoding can use 'utf8'; why is encoding needed? Because the computer needs to convert the file into bytes before it can be written"
   ],
   "metadata": {
    "collapsed": false
   },
   "id": "8898c361358f8bc4"
  }
 ],
 "metadata": {
  "kernelspec": {
   "display_name": "Python 3",
   "language": "python",
   "name": "python3"
  },
  "language_info": {
   "codemirror_mode": {
    "name": "ipython",
    "version": 2
   },
   "file_extension": ".py",
   "mimetype": "text/x-python",
   "name": "python",
   "nbconvert_exporter": "python",
   "pygments_lexer": "ipython2",
   "version": "2.7.6"
  }
 },
 "nbformat": 4,
 "nbformat_minor": 5
}
