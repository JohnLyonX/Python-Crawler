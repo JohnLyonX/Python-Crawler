{
 "cells": [
  {
   "cell_type": "markdown",
   "source": [
    "# mode=\" r w a r+ w+ a+ rb wb ab rb+ wb+ ab+ \""
   ],
   "metadata": {
    "collapsed": false
   },
   "id": "b65da8a8ed362ca2"
  },
  {
   "cell_type": "code",
   "execution_count": 4,
   "outputs": [
    {
     "data": {
      "text/plain": "'Hey, My name is 展波, I\\'m from China! I very happy to join this group. I am a software engineer, and I am very interested in the new technology. I hope I can learn more from this group.\\nThe end, I want to say: \"祝大家开心!!!\"'"
     },
     "execution_count": 4,
     "metadata": {},
     "output_type": "execute_result"
    }
   ],
   "source": [
    "with open('mynode','r') as f:\n",
    "    content = f.read()\n",
    "content"
   ],
   "metadata": {
    "collapsed": true,
    "ExecuteTime": {
     "end_time": "2023-12-18T02:52:52.736368Z",
     "start_time": "2023-12-18T02:52:52.728618Z"
    }
   },
   "id": "initial_id"
  },
  {
   "cell_type": "code",
   "execution_count": 7,
   "outputs": [
    {
     "data": {
      "text/plain": "'Hey, My name is 展波, I\\'m from China! I very happy to join this group. I am a software engineer, and I am very interested in the new technology. I hope I can learn more from this group.\\nThe end, I want to say: \"祝大家开心!!!\"'"
     },
     "execution_count": 7,
     "metadata": {},
     "output_type": "execute_result"
    }
   ],
   "source": [
    "with open('mynode','r',encoding='utf8') as f:\n",
    "    content = f.read()\n",
    "content"
   ],
   "metadata": {
    "collapsed": false,
    "ExecuteTime": {
     "end_time": "2023-12-18T02:57:06.708670Z",
     "start_time": "2023-12-18T02:57:06.704689Z"
    }
   },
   "id": "764efb2e4b0f0229"
  },
  {
   "cell_type": "code",
   "execution_count": 14,
   "outputs": [],
   "source": [
    "with open('mytext','w') as f:\n",
    "    f.write('hello world')"
   ],
   "metadata": {
    "collapsed": false,
    "ExecuteTime": {
     "end_time": "2023-12-18T03:00:51.519805Z",
     "start_time": "2023-12-18T03:00:51.515609Z"
    }
   },
   "id": "2be6f47b93773643"
  },
  {
   "cell_type": "code",
   "execution_count": 15,
   "outputs": [],
   "source": [
    "with open('mytext','w',encoding='utf8') as f:\n",
    "    f.write('hello world')"
   ],
   "metadata": {
    "collapsed": false,
    "ExecuteTime": {
     "end_time": "2023-12-18T03:02:47.259295Z",
     "start_time": "2023-12-18T03:02:47.255039Z"
    }
   },
   "id": "11697465164b26c"
  },
  {
   "cell_type": "code",
   "execution_count": 17,
   "outputs": [
    {
     "data": {
      "text/plain": "b'hello world'"
     },
     "execution_count": 17,
     "metadata": {},
     "output_type": "execute_result"
    }
   ],
   "source": [
    "# with data is binary\n",
    "with open('mytext','rb') as f:\n",
    "    content = f.read()\n",
    "content"
   ],
   "metadata": {
    "collapsed": false,
    "ExecuteTime": {
     "end_time": "2023-12-18T03:08:07.690595Z",
     "start_time": "2023-12-18T03:08:07.678144Z"
    }
   },
   "id": "a973f6656158bf7d"
  },
  {
   "cell_type": "code",
   "execution_count": 18,
   "outputs": [],
   "source": [
    "with open('mytext2','wb') as f:\n",
    "    f.write('hello world'.encode('utf8'))"
   ],
   "metadata": {
    "collapsed": false,
    "ExecuteTime": {
     "end_time": "2023-12-18T03:08:41.483533Z",
     "start_time": "2023-12-18T03:08:41.479915Z"
    }
   },
   "id": "c2ef5727bd4e30ed"
  }
 ],
 "metadata": {
  "kernelspec": {
   "display_name": "Python 3",
   "language": "python",
   "name": "python3"
  },
  "language_info": {
   "codemirror_mode": {
    "name": "ipython",
    "version": 2
   },
   "file_extension": ".py",
   "mimetype": "text/x-python",
   "name": "python",
   "nbconvert_exporter": "python",
   "pygments_lexer": "ipython2",
   "version": "2.7.6"
  }
 },
 "nbformat": 4,
 "nbformat_minor": 5
}
