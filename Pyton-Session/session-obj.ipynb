{
 "cells": [
  {
   "cell_type": "code",
   "execution_count": 37,
   "id": "initial_id",
   "metadata": {
    "collapsed": true,
    "ExecuteTime": {
     "end_time": "2023-12-19T11:27:00.098839Z",
     "start_time": "2023-12-19T11:27:00.095479Z"
    }
   },
   "outputs": [],
   "source": [
    "import requests"
   ]
  },
  {
   "cell_type": "code",
   "execution_count": 38,
   "outputs": [],
   "source": [
    "# Session 是一个可以帮忙管理 cookie 的对象, 使用session发送请求不需要每次都重新获取cookie\n",
    "session = requests.Session()"
   ],
   "metadata": {
    "collapsed": false,
    "ExecuteTime": {
     "end_time": "2023-12-19T11:27:00.105184Z",
     "start_time": "2023-12-19T11:27:00.099271Z"
    }
   },
   "id": "5923b442f9d2f245"
  },
  {
   "cell_type": "code",
   "execution_count": 39,
   "outputs": [
    {
     "data": {
      "text/plain": "<Response [200]>"
     },
     "execution_count": 39,
     "metadata": {},
     "output_type": "execute_result"
    }
   ],
   "source": [
    "session.post(\"http://127.0.0.1:5000/auth\",data={\n",
    "    \"user\":\"LyonJohn\",\n",
    "    \"pwd\": '123'\n",
    "})"
   ],
   "metadata": {
    "collapsed": false,
    "ExecuteTime": {
     "end_time": "2023-12-19T11:27:00.118733Z",
     "start_time": "2023-12-19T11:27:00.103586Z"
    }
   },
   "id": "12cc006bca1cbcc0"
  },
  {
   "cell_type": "markdown",
   "source": [],
   "metadata": {
    "collapsed": false
   },
   "id": "9a1ba765d6a3177f"
  },
  {
   "cell_type": "code",
   "execution_count": 45,
   "outputs": [
    {
     "data": {
      "text/plain": "['西游记', '三国演义', '水浒传', '金瓶梅']"
     },
     "execution_count": 45,
     "metadata": {},
     "output_type": "execute_result"
    }
   ],
   "source": [
    "rep = session.get('http://127.0.0.1:5000/books').json()\n",
    "list(rep)"
   ],
   "metadata": {
    "collapsed": false,
    "ExecuteTime": {
     "end_time": "2023-12-19T11:27:46.931129Z",
     "start_time": "2023-12-19T11:27:46.920253Z"
    }
   },
   "id": "7d78a25a172e0511"
  }
 ],
 "metadata": {
  "kernelspec": {
   "display_name": "Python 3",
   "language": "python",
   "name": "python3"
  },
  "language_info": {
   "codemirror_mode": {
    "name": "ipython",
    "version": 2
   },
   "file_extension": ".py",
   "mimetype": "text/x-python",
   "name": "python",
   "nbconvert_exporter": "python",
   "pygments_lexer": "ipython2",
   "version": "2.7.6"
  }
 },
 "nbformat": 4,
 "nbformat_minor": 5
}
