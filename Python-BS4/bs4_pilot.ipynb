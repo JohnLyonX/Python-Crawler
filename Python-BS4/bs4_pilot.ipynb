{
 "cells": [
  {
   "cell_type": "code",
   "execution_count": 4,
   "id": "initial_id",
   "metadata": {
    "collapsed": true,
    "ExecuteTime": {
     "end_time": "2023-12-12T08:30:59.618986Z",
     "start_time": "2023-12-12T08:30:59.588977Z"
    }
   },
   "outputs": [],
   "source": [
    "from bs4 import BeautifulSoup"
   ]
  },
  {
   "cell_type": "code",
   "execution_count": 5,
   "outputs": [],
   "source": [
    "doc = '''\n",
    "<ul class=\"menu\" role=\"tree\">\n",
    "    <li class=\"python-meta current_item selectedcurrent_branch selected\">\n",
    "        <a href=\"/\" title=\"The Python Programming Language\" class=\"current_item selectedcurrent_branch selected\">Python</a>\n",
    "    </li>\n",
    "    <li class=\"psf-meta \">\n",
    "        <a href=\"https://www.python.org/psf/\" title=\"The Python Software Foundation\" >PSF</a>\n",
    "    </li>\n",
    "    <li class=\"docs-meta \">\n",
    "        <a href=\"https://docs.python.org\" title=\"Python Documentation\" >Docs</a>\n",
    "    </li>\n",
    "    <li class=\"pypi-meta \">\n",
    "        <a href=\"https://pypi.org/\" title=\"Python Package Index\" >PyPI</a>\n",
    "    </li>\n",
    "    <li class=\"jobs-meta \">\n",
    "        <a href=\"/jobs/\" title=\"Python Job Board\" >Jobs</a>\n",
    "    </li>\n",
    "    <li class=\"shop-meta \">\n",
    "        <a href=\"/community-landing/\"  >Community</a>\n",
    "    </li>\n",
    "</ul>\n",
    "'''"
   ],
   "metadata": {
    "collapsed": false,
    "ExecuteTime": {
     "end_time": "2023-12-12T08:30:59.625836Z",
     "start_time": "2023-12-12T08:30:59.597094Z"
    }
   },
   "id": "c43ad899a2677ebc"
  },
  {
   "cell_type": "code",
   "execution_count": 6,
   "outputs": [
    {
     "name": "stdout",
     "output_type": "stream",
     "text": [
      "<a class=\"current_item selectedcurrent_branch selected\" href=\"/\" title=\"The Python Programming Language\">Python</a>\n",
      "<a class=\"current_item selectedcurrent_branch selected\" href=\"/\" title=\"The Python Programming Language\">Python</a>\n"
     ]
    }
   ],
   "source": [
    "# 解析doc里面的内容\n",
    "soup = BeautifulSoup(doc, 'html.parser')\n",
    "# print(soup.find_all(\"li\")) # 查找所有li\n",
    "print(soup.a) # 查找第一个a标签\n",
    "print(soup.li.a) # 查找第一个li标签里面的p标签\n",
    "# 如果查到一定是一个Tag对象"
   ],
   "metadata": {
    "collapsed": false,
    "ExecuteTime": {
     "end_time": "2023-12-12T08:30:59.626740Z",
     "start_time": "2023-12-12T08:30:59.607043Z"
    }
   },
   "id": "a2094e72bb71d4ba"
  },
  {
   "cell_type": "code",
   "execution_count": 7,
   "outputs": [
    {
     "name": "stdout",
     "output_type": "stream",
     "text": [
      "a\n",
      "/\n",
      "{'href': '/', 'title': 'The Python Programming Language', 'class': ['current_item', 'selectedcurrent_branch', 'selected']}\n",
      "Python\n",
      "Python\n"
     ]
    }
   ],
   "source": [
    "print(soup.a.name) # 查看标签名字\n",
    "print(soup.a[\"href\"]) # 获取第一个a标签的href属性\n",
    "print(soup.a.attrs) # 获取第一个a标签里面所有的属性\n",
    "print(soup.a.string) # 获取第一个a标签里面的文本\n",
    "print(soup.a.text) # 获取第一个a标签了里面的文本"
   ],
   "metadata": {
    "collapsed": false,
    "ExecuteTime": {
     "end_time": "2023-12-12T08:30:59.637412Z",
     "start_time": "2023-12-12T08:30:59.616185Z"
    }
   },
   "id": "f8193c04f6cf87b3"
  },
  {
   "cell_type": "code",
   "execution_count": 8,
   "outputs": [
    {
     "data": {
      "text/plain": "{'Python': '/',\n 'PSF': 'https://www.python.org/psf/',\n 'Docs': 'https://docs.python.org',\n 'PyPI': 'https://pypi.org/',\n 'Jobs': '/jobs/',\n 'Community': '/community-landing/'}"
     },
     "execution_count": 8,
     "metadata": {},
     "output_type": "execute_result"
    }
   ],
   "source": [
    "# 获取文档的标签信息,构建{a标签的文本: a的href作为值}\n",
    "\n",
    "ret = soup.find_all('a')\n",
    "dic = {}\n",
    "\n",
    "for tag in ret:\n",
    "    # 获取文本\n",
    "    val = tag.text\n",
    "    att = tag.attrs.get(\"href\")\n",
    "    dic[val] = att\n",
    "\n",
    "dic"
   ],
   "metadata": {
    "collapsed": false,
    "ExecuteTime": {
     "end_time": "2023-12-12T08:30:59.670194Z",
     "start_time": "2023-12-12T08:30:59.628825Z"
    }
   },
   "id": "4d03f24ac77f6936"
  },
  {
   "cell_type": "code",
   "execution_count": 45,
   "outputs": [
    {
     "data": {
      "text/plain": "{'Python': '/',\n 'PSF': 'https://www.python.org/psf/',\n 'Docs': 'https://docs.python.org',\n 'PyPI': 'https://pypi.org/',\n 'Jobs': '/jobs/',\n 'Community': '/community-landing/'}"
     },
     "execution_count": 45,
     "metadata": {},
     "output_type": "execute_result"
    }
   ],
   "source": [
    "{tag.text: tag['href'] for tag in soup.find_all('a')}  "
   ],
   "metadata": {
    "collapsed": false,
    "ExecuteTime": {
     "end_time": "2023-12-12T08:39:49.365180Z",
     "start_time": "2023-12-12T08:39:49.348895Z"
    }
   },
   "id": "487d2c5a054a4ba5"
  }
 ],
 "metadata": {
  "kernelspec": {
   "display_name": "Python 3",
   "language": "python",
   "name": "python3"
  },
  "language_info": {
   "codemirror_mode": {
    "name": "ipython",
    "version": 2
   },
   "file_extension": ".py",
   "mimetype": "text/x-python",
   "name": "python",
   "nbconvert_exporter": "python",
   "pygments_lexer": "ipython2",
   "version": "2.7.6"
  }
 },
 "nbformat": 4,
 "nbformat_minor": 5
}
