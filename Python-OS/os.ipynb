{
 "cells": [
  {
   "cell_type": "code",
   "execution_count": 1,
   "id": "initial_id",
   "metadata": {
    "collapsed": true,
    "ExecuteTime": {
     "end_time": "2023-12-20T00:35:20.213108Z",
     "start_time": "2023-12-20T00:35:20.205298Z"
    }
   },
   "outputs": [],
   "source": [
    "import os"
   ]
  },
  {
   "cell_type": "code",
   "execution_count": null,
   "outputs": [],
   "source": [
    "# 创建文件夹\n",
    "os.mkdir(\"test\")"
   ],
   "metadata": {
    "collapsed": false
   },
   "id": "12970fb750cf4133"
  },
  {
   "cell_type": "code",
   "execution_count": null,
   "outputs": [],
   "source": [
    "# 在指定的目录下创建文件\n",
    "path = os.path.join(\"test/test.txt\")\n",
    "with open(path, \"w\") as f:\n",
    "    f.write(\"hello world\")"
   ],
   "metadata": {
    "collapsed": false
   },
   "id": "baf589d5fd3cd20b"
  },
  {
   "cell_type": "code",
   "execution_count": null,
   "outputs": [],
   "source": [
    "# 获取文件或者文件夹的目录\n",
    "os.path.dirname(__file__) # __file__表示当前文件目录"
   ],
   "metadata": {
    "collapsed": false
   },
   "id": "9208626274b41930"
  },
  {
   "cell_type": "code",
   "execution_count": null,
   "outputs": [],
   "source": [
    "os.path.basename(__file__) # 获取文件名"
   ],
   "metadata": {
    "collapsed": false
   },
   "id": "fb3ddc81838d66cb"
  },
  {
   "cell_type": "code",
   "execution_count": null,
   "outputs": [],
   "source": [
    "os.path.exists(\"text\") # 判断文件或者文件夹是否存在, 如果有的话返回True, 没有的话返回False 所以在做判断条件的时候需要加上 if not"
   ],
   "metadata": {
    "collapsed": false
   },
   "id": "714331940fbd3985"
  }
 ],
 "metadata": {
  "kernelspec": {
   "display_name": "Python 3",
   "language": "python",
   "name": "python3"
  },
  "language_info": {
   "codemirror_mode": {
    "name": "ipython",
    "version": 2
   },
   "file_extension": ".py",
   "mimetype": "text/x-python",
   "name": "python",
   "nbconvert_exporter": "python",
   "pygments_lexer": "ipython2",
   "version": "2.7.6"
  }
 },
 "nbformat": 4,
 "nbformat_minor": 5
}
