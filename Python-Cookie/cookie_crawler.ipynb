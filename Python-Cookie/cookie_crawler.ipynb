{
 "cells": [
  {
   "cell_type": "code",
   "execution_count": 6,
   "id": "initial_id",
   "metadata": {
    "collapsed": true,
    "ExecuteTime": {
     "end_time": "2023-12-19T07:34:27.701350Z",
     "start_time": "2023-12-19T07:34:27.598220Z"
    }
   },
   "outputs": [],
   "source": [
    "import requests\n",
    "from lxml import etree\n",
    "import pandas"
   ]
  },
  {
   "cell_type": "code",
   "execution_count": 55,
   "outputs": [
    {
     "data": {
      "text/plain": "{'login_id': 'skysinsadfasdfasdfasdfsadfsskdind'}"
     },
     "execution_count": 55,
     "metadata": {},
     "output_type": "execute_result"
    }
   ],
   "source": [
    "# 模拟登陆\n",
    "get_cookie = requests.post('http://127.0.0.1:5000/auth', data={\n",
    "    'user': 'LyonJohn',\n",
    "    'pwd': 123\n",
    "}).cookies.get_dict()\n",
    "get_cookie"
   ],
   "metadata": {
    "collapsed": false,
    "ExecuteTime": {
     "end_time": "2023-12-19T08:52:42.581216Z",
     "start_time": "2023-12-19T08:52:42.561584Z"
    }
   },
   "id": "5ae42c0f16f317a2"
  },
  {
   "cell_type": "code",
   "execution_count": 58,
   "outputs": [],
   "source": [
    "# 发起请求携带cookie\n",
    "req = requests.get('http://127.0.0.1:5000/books', cookies=\n",
    "get_cookie).json()"
   ],
   "metadata": {
    "collapsed": false,
    "ExecuteTime": {
     "end_time": "2023-12-19T08:53:13.091892Z",
     "start_time": "2023-12-19T08:53:13.083154Z"
    }
   },
   "id": "19400880d53a9c87"
  },
  {
   "cell_type": "code",
   "execution_count": 59,
   "outputs": [],
   "source": [
    "# 保存数据\n",
    "for i in req:\n",
    "    with open('books', 'a', encoding='utf8') as f:\n",
    "        f.write(i + '\\n') \n",
    "    "
   ],
   "metadata": {
    "collapsed": false,
    "ExecuteTime": {
     "end_time": "2023-12-19T08:53:14.537850Z",
     "start_time": "2023-12-19T08:53:14.510438Z"
    }
   },
   "id": "e811970836c05390"
  }
 ],
 "metadata": {
  "kernelspec": {
   "display_name": "Python 3",
   "language": "python",
   "name": "python3"
  },
  "language_info": {
   "codemirror_mode": {
    "name": "ipython",
    "version": 2
   },
   "file_extension": ".py",
   "mimetype": "text/x-python",
   "name": "python",
   "nbconvert_exporter": "python",
   "pygments_lexer": "ipython2",
   "version": "2.7.6"
  }
 },
 "nbformat": 4,
 "nbformat_minor": 5
}
